{
 "cells": [
  {
   "cell_type": "markdown",
   "metadata": {},
   "source": [
    "# Introduction to Solving QUBO Problems on a D-Wave Quantum Annealer"
   ]
  },
  {
   "cell_type": "markdown",
   "metadata": {},
   "source": [
    "Quantum annealing is an alternative type of quantum computing, also referred to as adiabatic, or \"analog\", quantum computing. Whereas \"digital\" quantum computing allows for the development of quantum-gate based algorithms (circuits) for general-purpose problems, quantum annealing is specifically suited for **quadratic unconstrained binary optimization (QUBO)** problems."
   ]
  },
  {
   "cell_type": "markdown",
   "metadata": {},
   "source": [
    "### What is a QUBO?"
   ]
  },
  {
   "cell_type": "markdown",
   "metadata": {},
   "source": [
    "Despite the similarity, the acronym QUBO, by itself, has nothing to do with \"qubits\" or \"quantum\"! A QUBO (Quadratic Unconstrained Binary Optimization) is a classical optimization problem, consisting in **minimizing** a quadratic cost function of the form $$ f(\\{x_i\\})\\ =\\ \\sum_{i,j = 1}^n \\,Q_{i,j}\\,x_i\\,x_j\\ =\\ \\mathbf{x}^{\\top}\\mathbf{Q}\\,\\mathbf{x}$$ where $\\{x_i\\}$ is a set of binary variables, i.e., $x_i \\in \\{0,1\\}$. This type of problem is often encountered in combinatorics for finance/economics, one famous example is the *travelling salesman* problem, see Exercise 1. The same mathematical form is also frequently found in optimization problems for materials science, as we will see in Exercise 2."
   ]
  },
  {
   "cell_type": "markdown",
   "metadata": {},
   "source": [
    "Classical computer algorithms to solve QUBO problems typically scale exponentially with the dimension $n$ of the variable space. This makes QUBOs with large $n$ very difficult to solve on classical computers. Quantum annealing offers an attractive alternative to solving classical QUBO problems."
   ]
  },
  {
   "cell_type": "markdown",
   "metadata": {},
   "source": [
    "### What is Quantum Annealing?"
   ]
  },
  {
   "cell_type": "markdown",
   "metadata": {},
   "source": [
    "Like in other types of quantum computing, quantum annealing is a method to solving computational problems by manipulating, and finally measuring, the quantum state of a multi-qubit system. A qubit is represented by a quantum-mechanical two-level system with eigenstates $\\ket{1}$ and $\\ket{0}$. A quantum annealer consists of a network of physically coupled qubits with tunable coupling strengths. The D-Wave Advantage System has over 5000 qubits!"
   ]
  },
  {
   "cell_type": "markdown",
   "metadata": {},
   "source": [
    " <img src=\"qubit_network.pdf\" width=\"300\"> *Representation of a quantum annealer as a network of qubits with tunable coupling strengths (arrows).*"
   ]
  },
  {
   "cell_type": "markdown",
   "metadata": {},
   "source": [
    "The coupled qubit network is equivalent to the Ising model for a network of spin variables $\\sigma_i$, which is described by a Hamiltonian $$ \\mathcal{H} =  $$"
   ]
  },
  {
   "cell_type": "code",
   "execution_count": 1,
   "metadata": {},
   "outputs": [],
   "source": [
    "import numpy as np"
   ]
  },
  {
   "cell_type": "code",
   "execution_count": 5,
   "metadata": {},
   "outputs": [],
   "source": [
    "a = np.array([10,11])"
   ]
  },
  {
   "cell_type": "code",
   "execution_count": 6,
   "metadata": {},
   "outputs": [
    {
     "name": "stdout",
     "output_type": "stream",
     "text": [
      "[10 11]\n"
     ]
    }
   ],
   "source": [
    "print(a)"
   ]
  },
  {
   "cell_type": "code",
   "execution_count": null,
   "metadata": {},
   "outputs": [],
   "source": []
  }
 ],
 "metadata": {
  "kernelspec": {
   "display_name": "Python 3 (ipykernel)",
   "language": "python",
   "name": "python3"
  },
  "language_info": {
   "codemirror_mode": {
    "name": "ipython",
    "version": 3
   },
   "file_extension": ".py",
   "mimetype": "text/x-python",
   "name": "python",
   "nbconvert_exporter": "python",
   "pygments_lexer": "ipython3",
   "version": "3.9.6"
  }
 },
 "nbformat": 4,
 "nbformat_minor": 4
}
