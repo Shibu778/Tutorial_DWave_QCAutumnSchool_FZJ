{
 "cells": [
  {
   "cell_type": "markdown",
   "id": "43d944af-ee0a-4dcc-980b-7699f591b652",
   "metadata": {},
   "source": [
    "# Exercise 1: The Travelling Salesman Problem"
   ]
  },
  {
   "cell_type": "markdown",
   "id": "201c8796-45f1-4d24-9aed-3e72461f8d56",
   "metadata": {},
   "source": [
    "The travelling salesman bla bla"
   ]
  },
  {
   "cell_type": "code",
   "execution_count": null,
   "id": "c32a6769-6d40-4caf-9010-094a99781bd8",
   "metadata": {},
   "outputs": [],
   "source": []
  }
 ],
 "metadata": {
  "kernelspec": {
   "display_name": "Python 3 (ipykernel)",
   "language": "python",
   "name": "python3"
  },
  "language_info": {
   "codemirror_mode": {
    "name": "ipython",
    "version": 3
   },
   "file_extension": ".py",
   "mimetype": "text/x-python",
   "name": "python",
   "nbconvert_exporter": "python",
   "pygments_lexer": "ipython3",
   "version": "3.9.6"
  }
 },
 "nbformat": 4,
 "nbformat_minor": 5
}
