{
 "cells": [
  {
   "cell_type": "markdown",
   "id": "39ac8ed7-0e05-47cf-927b-7263f39248a9",
   "metadata": {},
   "source": [
    "# Exercise: Quantum Annealing for Sampling Ionic Distributions in Disordered Materials"
   ]
  },
  {
   "cell_type": "markdown",
   "id": "c479baff-a404-4cbc-8883-8bf5a2081b48",
   "metadata": {},
   "source": [
    "### Disordered Materials in Energy Research"
   ]
  },
  {
   "cell_type": "markdown",
   "id": "eefbe0ae-b186-4f50-8494-105eb2fc0979",
   "metadata": {},
   "source": [
    "In energy research, particularly within the domain of battery technologies, the investigation of disordered materials, such as doped materials and high-entropy oxides, has become increasingly significant. A hallmark of this disorder is the presence of vacancies alongside ions. The distribution between ions and vacancies is far from trivial. Consider the commonly used cathode material in lithium-ion batteries: $\\mathrm{LiCoO_2}$. The figure below illustrates this with a total of 17 occupied Li sites, representing the charged state with 100% lithiation. During battery discharge, lithium is extracted from the material and the lithium content decreases. To study its properties, for instance, at a decreased lithiation of 70%, we need to allocate 12 Li ions across 17 sites. The figure depicts two of the myriad potential configurations. The specific arrangement of ions and vacancies critically impacts the material's properties. This distribution is especially crucial in computational studies, where the accuracy of predictions hinges upon an accurate representation of ion-vacancy configurations. Given the extensive possible configurations, ensuring model precision is challenging; inaccuracies can substantially alter predictive results.\n",
    "\n",
    "<div style=\"text-align: center\">\n",
    "    <img src=\"LCO.jpg\" width=\"500\"/>\n",
    "</div>\n",
    "\n",
    "Thermodynamically, the lowest energy configurations are the most significant. Materials are inherently inclined to adopt these configurations, making them critical for both understanding and predicting the behavior of the material under various conditions. The challenge, however, lies in effectively identifying these ground-state distributions from a vast configuration space. Quantum Annealing presents an advanced approach to efficiently sample ionic distributions in disordered materials.\n",
    "\n",
    "This tutorial delves into the specifics of Quantum Annealing, elucidating its capabilities and techniques for identifying low-energy states in disordered materials."
   ]
  },
  {
   "cell_type": "markdown",
   "id": "e03fa7d3-5a36-46e6-8686-47cac53ec568",
   "metadata": {},
   "source": [
    "### Simplified Model: Classical Electrostatic Coulomb Energy"
   ]
  },
  {
   "cell_type": "markdown",
   "id": "e2cddd46-c533-4f77-a4e9-19866a80c6ec",
   "metadata": {},
   "source": [
    "Coulomb interactions are the most fundamental interactions in ionic systems. In the simplest Coulomb model, the energy $E_{\\mathrm{coul}}$ is determined by the summation of pairwise interactions between every distinct pair of ions in the system. In the equation:\n",
    "\n",
    "$$E_{\\mathrm{coul}} = \\sum_{i<j} \\frac{q_i\\,q_j}{|r_i-r_j|}$$\n",
    "\n",
    "$q_i$ and $q_j$ represent the charges of the ions, while $|\\mathbf{r}_i-\\mathbf{r}_j|$ is the distance between the ions $i$ and $j$. For the sake of simplicity, we have set all units to one. This equation encapsulates the essence of classical electrostatic interactions: charged entities attract or repel each other based on the inverse of the square of their separation distance. While this is a simplification and does not account for quantum effects or other complexities, it serves as a foundational starting point for understanding the energetics of ionic systems in disordered materials."
   ]
  },
  {
   "cell_type": "markdown",
   "id": "dd4d7aec-c18c-4976-8e94-863e064bc888",
   "metadata": {},
   "source": [
    "## Problem 1: Electrostatic 2D Lattice"
   ]
  },
  {
   "cell_type": "markdown",
   "id": "f6d6c1f9-a8cf-4895-b2d8-c3d821ed351f",
   "metadata": {},
   "source": [
    "For this investigation, we focus on a model representing a two-dimensional lattice subjected to classical electrostatic Coulomb interactions. This model represents a **hypothetical** material $\\mathrm{Li_2WO_4}$ for a Li-ion battery wherein two lithium (Li) ions and two vacancies are distributed over a set of four available lattice sites for lithium.\n",
    "\n",
    "The visual representation below illustrates the lattice alongside specific ionic positions. The accompanying table enumerates the exact atomic positions. Note that only two out of the four available lithium sites are occupied for any given configuration.\n",
    "\n",
    "<div style=\"text-align: center\">\n",
    "    <img src=\"2D_lattice.jpg\" width=\"500\"/>\n",
    "</div>\n"
   ]
  },
  {
   "cell_type": "markdown",
   "id": "859e161f-659b-46ba-9ce0-1ef6ef889c56",
   "metadata": {},
   "source": [
    "#### **_Task 1.1: Complete the following Table with the coordinates of each atom_**"
   ]
  },
  {
   "cell_type": "markdown",
   "id": "d7aa743a-79b6-4aec-bb68-196a1ae78910",
   "metadata": {},
   "source": [
    "| Site Number | Atom      | x-Coordinate | y-Coordinate |\n",
    "|-------------|-----------|--------------|--------------|\n",
    "| 1           | Li<sup>+</sup> | 0            | 0            |\n",
    "| 2           | Li<sup>+</sup> | ---          | ---          |\n",
    "| 3           | Li<sup>+</sup> | ---          | ---          |\n",
    "| 4           | Li<sup>+</sup> | 2            | 1            |\n",
    "| 5           | O<sup>2-</sup> | ---          | ---          |\n",
    "| 6           | O<sup>2-</sup> | ---          | ---          |\n",
    "| 7           | O<sup>2-</sup> | ---          | ---          |\n",
    "| 8           | O<sup>2-</sup> | ---          | ---          |\n",
    "| 9           | W<sup>6+</sup> | 1            | 0.5          |"
   ]
  },
  {
   "cell_type": "markdown",
   "id": "bfa29cbd-2021-4bb2-a57e-2c94bf56307b",
   "metadata": {
    "jp-MarkdownHeadingCollapsed": true,
    "tags": []
   },
   "source": [
    "##### _Solution:_"
   ]
  },
  {
   "cell_type": "markdown",
   "id": "20f82954-aaa1-4a2e-a163-9cd11be50976",
   "metadata": {
    "tags": []
   },
   "source": [
    "| Site Number | Atom      | x-Coordinate | y-Coordinate |\n",
    "|-------------|-----------|--------------|--------------|\n",
    "| 1           | Li<sup>+</sup> | 0            | 0            |\n",
    "| 2           | Li<sup>+</sup> | 2            | 0            |\n",
    "| 3           | Li<sup>+</sup> | 0            | 1            |\n",
    "| 4           | Li<sup>+</sup> | 2            | 1            |\n",
    "| 5           | O<sup>2-</sup> | 1            | 0            |\n",
    "| 6           | O<sup>2-</sup> | 0            | 0.5          |\n",
    "| 7           | O<sup>2-</sup> | 2            | 0.5          |\n",
    "| 8           | O<sup>2-</sup> | 1            | 1            |\n",
    "| 9           | W<sup>6+</sup> | 1            | 0.5          |"
   ]
  },
  {
   "cell_type": "markdown",
   "id": "fc922221-75e3-4762-8445-9d7c93b11e77",
   "metadata": {
    "tags": []
   },
   "source": [
    "### Computing the Coulomb energies of all possible configurations\n",
    "\n",
    "The process of computing the Coulomb energy for a set of ionic configurations in our 2D lattice model hinges on the Classical Electrostatic Coulomb Energy equation:\n",
    "$$E_{\\mathrm{coul}}\\ =\\ \\sum_{i<j} \\frac{q_i\\,q_j}{|\\mathbf{r}_i-\\mathbf{r}_j|}$$\n",
    "The formula calculates the pairwise Coulomb interaction energy between ions in the system. The energy between two ions is proportional to the product of their charges and inversely proportional to the distance between them. Here's how we can use this to evaluate the energy for our lattice:\n",
    "\n",
    "1. **Pairwise Computation**: For every distinct pair of ions, we will compute their interaction energy.\n",
    "2. **Accumulation**: Sum all these pairwise energies to get the total Coulombic energy for a given ionic configuration.\n",
    "3. **Iterate for All Configurations**: By varying the arrangement of Li ions and vacancies, we can compute the energy for each unique configuration."
   ]
  },
  {
   "cell_type": "markdown",
   "id": "316caa95-5086-4d53-8828-c7602e105147",
   "metadata": {},
   "source": [
    "Let us denote any given Li distribution by the pair of occupied sites, e.g., Configuration 1: (1,3), meaning that one Li-ion is sitting on site number 1 and the other Li-ion on site number 3 (see the Table above for site numbers)."
   ]
  },
  {
   "cell_type": "markdown",
   "id": "28870da5-d9b2-45b1-94e1-fcdda6e62c5b",
   "metadata": {},
   "source": [
    "#### **_Task 1.2: Complete the following Table with the Coulomb energies of all possible Li ion configurations_**"
   ]
  },
  {
   "cell_type": "markdown",
   "id": "dc853afb-a27c-416f-9c53-55b6df1218d1",
   "metadata": {},
   "source": [
    "| Configuration | Coulomb energy | Binary Representation | Coulomb energy from QUBO |\n",
    "| --- | --- | --- | --- |\n",
    "| (1,2) | -57.225 | [1,1,0,0] | -57.225 |\n",
    "| --- | --- | --- | --- |\n",
    "| --- | --- | --- | --- |\n",
    "| --- | --- | --- | --- |\n",
    "| --- | --- | --- | --- |\n",
    "| --- | --- | --- | --- |"
   ]
  },
  {
   "cell_type": "markdown",
   "id": "50f1028d-0af4-4ede-b40c-69ffc2ede7e8",
   "metadata": {},
   "source": [
    "_Fill in the first two columns of the above Table using the following script._"
   ]
  },
  {
   "cell_type": "code",
   "execution_count": 1,
   "id": "d8c4ac0e-108e-4230-939a-8a243cb44a68",
   "metadata": {
    "tags": []
   },
   "outputs": [
    {
     "name": "stdout",
     "output_type": "stream",
     "text": [
      "Total Coulomb energy for the configuration: -57.225\n"
     ]
    }
   ],
   "source": [
    "import numpy as np\n",
    "\n",
    "def energy_coul_pair(site1, site2):\n",
    "    \"\"\"Compute Coulomb energy between two sites.\"\"\"\n",
    "    q1 = site1[0]  # Charge of the first ion\n",
    "    r1 = np.array(site1[1])  # Position of the first ion\n",
    "    q2 = site2[0]  # Charge of the second ion\n",
    "    r2 = np.array(site2[1])  # Position of the second ion\n",
    "    \n",
    "    # Compute pairwise interaction energy\n",
    "    return q1 * q2 / np.linalg.norm(r1 - r2)\n",
    "\n",
    "# Define the ionic sites and their charges/positions.\n",
    "# Each site is represented as a tuple: (charge, [x,y])\n",
    "\n",
    "site_1 = (1, [0, 0])\n",
    "site_2 = (1, [2, 0])\n",
    "site_3 = (1, [0, 1])\n",
    "site_4 = (1, [2, 1])\n",
    "\n",
    "#select two occupied Li sites and find all possible configurations\n",
    "li_sites_occupied = [site_1, site_2] \n",
    "\n",
    "o_sites = [(-2, [1, 0]), (-2, [0, 0.5]), (-2, [2, 0.5]), (-2, [1, 1])]\n",
    "w_sites = [(6, [1, 0.5])]\n",
    "\n",
    "# Combine all sites\n",
    "all_sites = li_sites_occupied + o_sites + w_sites\n",
    "n_all_sites = len(all_sites)\n",
    "\n",
    "# Initialize total energy to zero\n",
    "energy_coul_total = 0\n",
    "# Loop over any distinct pair of sites (both Li and other species)\n",
    "for i in range(n_all_sites):\n",
    "    for j in range(i+1, n_all_sites):  # Ensures we don't double-count pairs\n",
    "        energy_coul_total += energy_coul_pair(all_sites[i], all_sites[j])\n",
    "\n",
    "print('Total Coulomb energy for the configuration: ' + str(round(energy_coul_total,3)))\n"
   ]
  },
  {
   "cell_type": "markdown",
   "id": "248f85a0-4c92-451b-b8f7-66b78c2f0a44",
   "metadata": {
    "tags": []
   },
   "source": [
    "##### _Solution:_"
   ]
  },
  {
   "cell_type": "markdown",
   "id": "5ba0f025-817d-49bb-a552-d30960bc08a6",
   "metadata": {},
   "source": [
    "| Configuration | Coulomb energy | Binary Representation | Coulomb energy from QUBO |\n",
    "| --- | --- | --- | --- |\n",
    "| (1,2) | -57.225 | [1,1,0,0] | -57.225 |\n",
    "| (1,3) | -56.725 | [1,0,1,0] | -56.725 |\n",
    "| (1,4) | -57.278 | [1,0,0,1] | -57.278 |\n",
    "| (2,3) | -57.278 | [0,1,1,0] | -57.278 |\n",
    "| (2,4) | -56.725 | [0,1,0,1] | -56.725 |\n",
    "| (3,4) | -57.225 | [0,0,1,1] | -57.225 |"
   ]
  },
  {
   "cell_type": "markdown",
   "id": "ecdd9fad-2fc6-4747-b393-3f8e834d260d",
   "metadata": {},
   "source": [
    "### Mapping the Configurational Coulomb Energy onto QUBO Cost Function\n",
    "\n",
    "Mapping the Coulomb energy into a QUBO form is crucial for processing on quantum annealers. As we learned earlier, a QUBO problem seeks to minimize a function of binary variables (variables that take on values 0 or 1). We can naturally map our problem of minimizing the Coulomb energy as a function of Li-ion distribution to a QUBO. For this, we introduce for each Li-ion site $i$ a binary variable $x_i$, which represents whether the site is occupied ($x_i = 1$) or vacant ($x_i = 0$). We can then write $E_{coul}$ in the following QUBO form:\n",
    "\n",
    "$$E_{coul} = c + \\sum_{i} \\alpha_i x_i +\\sum_{i<j} \\beta_{ij} x_i x_j$$\n",
    "\n",
    "The individual terms in this expression are defined as follows:\n",
    "\n",
    "1. **Constant Term, $c$**: This is the Coulomb energy arising solely from the fixed ions (like $O^{2-}$ and $W^{6+}$). Since these positions and charges are fixed, this energy doesn't change with different configurations and can be computed just once. \n",
    "\n",
    "2. **Linear Terms, $\\sum_{i} \\alpha_i x_i$**: Each linear term represents the interaction energy between a given site with variable occupation (in our example a Li site) and all the fixed ions in the lattice. The coefficients $\\alpha_i$ thus capture the cumulative interaction of the $i$-th variable site with all fixed ions.\n",
    "\n",
    "3. **Quadratic Terms, $\\sum_{i<j} \\beta_{ij} x_i x_j$**: This term captures the pairwise interaction energies between all possible pairs of variable sites, i.e., any Li-Li interaction term. The coefficients $\\beta_{ij}$ correspond to the interaction energy between the *i*-th and *j*-th variable sites. Note that the interaction energy of a given pair of sites only contributes to the total energy if both sites are occupied (i.e., both $x_i = 1$ and $x_j =1 $). \n",
    "\n",
    "This decomposition makes the energy expression amenable to quantum annealing, by breaking it down into terms that rely on binary decision variables. We note that the constant term $c$ does not have any influence on the minimization problem and thus can be ignored. By defining $Q_{i,i} = \\alpha_i$ and $Q_{i,j} = \\beta_{ij}$, we then obtain the Coulomb energy precisely in the QUBO form introduced earlier:\n",
    "\n",
    "$$ E_{coul}(\\{x_i\\})\\ =\\ c + \\sum_{i = 1}^n \\,Q_{i,i}\\,x_i + \\sum_{i<j = 1}^n \\,Q_{i,j}\\,x_i\\,x_j$$\n",
    "\n"
   ]
  },
  {
   "cell_type": "markdown",
   "id": "c5cbdfbc-3eff-4628-b304-367b4e6eabad",
   "metadata": {},
   "source": [
    "#### **_Task 1.3: Compute the individual coefficients_**"
   ]
  },
  {
   "cell_type": "markdown",
   "id": "a59c80e4-c75c-4c95-bbed-a533b12fcbd4",
   "metadata": {},
   "source": [
    "In this Task, you will calculate the individual coefficients of the Coulomb energy in the QUBO form discussed above.\n",
    "\n",
    "- **Compute $\\alpha_i$**: For each Li site, compute its interaction energy with all fixed ions. This gives the $\\alpha_i$ values.\n",
    "  \n",
    "- **Compute $\\beta_{ij}$**: For every pair of Li sites, compute their interaction energy. These are the $\\beta_{ij}$ values.\n",
    "\n",
    "- **Compute $c$**: This involves evaluating the cumulative interaction energy between all fixed ions.\n",
    "\n",
    "_Complement the following script to compute the vector $\\vec{\\alpha} = (\\alpha_1, \\alpha_2, ...)$, matrix $\\hat{\\beta} = (\\beta_{ij})$, and constant $c$ for the 2D lattice_"
   ]
  },
  {
   "cell_type": "code",
   "execution_count": 2,
   "id": "e8deca4f-e2f4-483a-9869-b8505aa5ea88",
   "metadata": {
    "tags": []
   },
   "outputs": [
    {
     "name": "stdout",
     "output_type": "stream",
     "text": [
      "c = -51.68916494400135\n",
      "alpha = [-3.01779292 -3.01779292 -3.01779292 -3.01779292]\n",
      "beta matrix =\n",
      "[[0.        0.5       1.        0.4472136]\n",
      " [0.        0.        0.4472136 1.       ]\n",
      " [0.        0.        0.        0.5      ]\n",
      " [0.        0.        0.        0.       ]]\n"
     ]
    }
   ],
   "source": [
    "# Compute c: Coulomb energy from fixed atoms\n",
    "def compute_c(fixed_sites):\n",
    "    c_energy = 0\n",
    "    for i in range(len(fixed_sites)):\n",
    "        for j in range(i+1, len(fixed_sites)):  # Ensures we don't double-count pairs\n",
    "            c_energy += energy_coul_pair(fixed_sites[i], fixed_sites[j])\n",
    "    return c_energy\n",
    "\n",
    "# Compute alpha vector: The Coulomb energies of any given Li site with all fixed ions\n",
    "def compute_alpha(li_sites, fixed_sites):\n",
    "    alpha = []\n",
    "    for li in li_sites:\n",
    "        alpha_energy = 0\n",
    "        for site in fixed_sites:\n",
    "            alpha_energy += energy_coul_pair(li, site)\n",
    "        alpha.append(alpha_energy)\n",
    "    return np.array(alpha)\n",
    "\n",
    "# Compute beta: The Coulomb energies of all pairs of Li sites\n",
    "def compute_beta(li_sites):\n",
    "    beta = np.zeros((len(li_sites), len(li_sites)))\n",
    "    for i in range(len(li_sites)):\n",
    "        for j in range(i+1, len(li_sites)):\n",
    "            beta[i, j] = energy_coul_pair(li_sites[i], li_sites[j])\n",
    "    return beta\n",
    "\n",
    "# Compute the QUBO parameters\n",
    "li_sites_all = [site_1, site_2, site_3, site_4]\n",
    "fixed_sites = o_sites + w_sites\n",
    "c = compute_c(fixed_sites)\n",
    "alpha = compute_alpha(li_sites_all, fixed_sites)\n",
    "beta = compute_beta(li_sites_all)\n",
    "\n",
    "# Print the QUBO parameters\n",
    "print(\"c =\", c)\n",
    "print(\"alpha =\", alpha)\n",
    "print(\"beta matrix =\")\n",
    "print(beta)"
   ]
  },
  {
   "cell_type": "markdown",
   "id": "ff0b1b35-14ba-411a-9b13-b0502043c9e5",
   "metadata": {},
   "source": [
    "#### **_Task 1.4: Recompute the Coulomb energies of all possible configurations using the QUBO form_**"
   ]
  },
  {
   "cell_type": "markdown",
   "id": "05a7214b-9ed4-4d65-81e4-ae758b6e0503",
   "metadata": {},
   "source": [
    "_Fill in the last two columns of the Table in Task 1.1 above. First fill in all binary representations of the different configurations. Then use the following script to compute the Coulomb energy for each binary representation._"
   ]
  },
  {
   "cell_type": "code",
   "execution_count": 3,
   "id": "ea601376-4b9f-4c1e-b327-3fd068905436",
   "metadata": {
    "tags": []
   },
   "outputs": [
    {
     "name": "stdout",
     "output_type": "stream",
     "text": [
      "Coulomb energy from QUBO for x = [1, 1, 0, 0] is -57.225\n"
     ]
    }
   ],
   "source": [
    "# Calculate the QUBO Coulomb energy for a Li configuration x = [x_0, x_1, ...]\n",
    "def E_QUBO(x, alpha, beta, c):\n",
    "    E = c\n",
    "    for i in range(len(x)):\n",
    "        E += alpha[i] * x[i]\n",
    "        for j in range(i+1, len(x)):\n",
    "            E += beta[i, j] * x[i] * x[j]\n",
    "    return E\n",
    "\n",
    "# Provide a configuration\n",
    "x = [1,1,0,0]\n",
    "\n",
    "E = E_QUBO(x, alpha, beta, c)\n",
    "print(f\"Coulomb energy from QUBO for x = {x} is {round(E,3)}\")"
   ]
  },
  {
   "cell_type": "markdown",
   "id": "656bcd34-5963-473d-885d-d9b65d8bc36d",
   "metadata": {},
   "source": [
    "**_QUESTION: What is the lowest energy (ground state) configuration?_**"
   ]
  },
  {
   "cell_type": "markdown",
   "id": "9506681b-eefa-4bfa-a470-8477ebfd1295",
   "metadata": {},
   "source": [
    "### Finding the ground state using the D-Wave Quantum Annealer"
   ]
  },
  {
   "cell_type": "markdown",
   "id": "b7af218f-cfe0-48f0-b047-7b9c360fb89c",
   "metadata": {},
   "source": [
    "Now that we have formulated the Coulomb energy in QUBO form and calculated the QUBO coefficients, we will use the D-Wave Quantum Annealer to find the ground state configuration of the 2D lattice \"$\\mathrm{Li_2WO_4}$\". So let's reuse the basic D-Wave sampling script..."
   ]
  },
  {
   "cell_type": "code",
   "execution_count": 4,
   "id": "5ebe464d-9d75-43ef-9383-89a53d8787a2",
   "metadata": {},
   "outputs": [],
   "source": [
    "from dwave.system import DWaveSampler, EmbeddingComposite\n",
    "import dwave.inspector\n",
    "\n",
    "import numpy as np\n",
    "\n",
    "\n",
    "def get_token():\n",
    "    return 'COPY YOUR PERSONAL TOKEN HERE'\n"
   ]
  },
  {
   "cell_type": "markdown",
   "id": "40cd1d8b-8606-4bf1-bb5a-940e894d7508",
   "metadata": {},
   "source": [
    "_Use the definition $Q_{i,i} = \\alpha_i$ and $Q_{i,j} = \\beta_{ij}$ to define the function \"get_qubo\"._"
   ]
  },
  {
   "cell_type": "code",
   "execution_count": 9,
   "id": "cf2ac6ea-c120-4cde-ad11-5330e7562f33",
   "metadata": {
    "scrolled": true
   },
   "outputs": [
    {
     "name": "stdout",
     "output_type": "stream",
     "text": [
      "{(0, 0): -3.0177929165189328, (0, 1): 0.5, (0, 2): 1.0, (0, 3): 0.4472135954999579, (1, 1): -3.0177929165189328, (1, 0): 0.0, (1, 2): 0.4472135954999579, (1, 3): 1.0, (2, 2): -3.017792916518931, (2, 0): 0.0, (2, 1): 0.0, (2, 3): 0.5, (3, 3): -3.017792916518931, (3, 0): 0.0, (3, 1): 0.0, (3, 2): 0.0}\n"
     ]
    }
   ],
   "source": [
    "def get_qubo(alpha, beta):\n",
    "\n",
    "    dim = len(alpha)\n",
    "    \n",
    "    Q = {}\n",
    "    for i in range(dim):\n",
    "        Q[(i, i)] = Q.get((i, i), 0) + alpha[i]\n",
    "        for j in range(dim):\n",
    "            Q[(i, j)] = Q.get((i, j), 0) + beta[i][j]\n",
    "\n",
    "    return Q\n",
    "\n",
    "Q = get_qubo(alpha, beta)\n",
    "\n",
    "print(Q)"
   ]
  },
  {
   "cell_type": "markdown",
   "id": "80422d78-7251-4e38-8e73-8590dcb3a33b",
   "metadata": {},
   "source": [
    "We are now ready to search the ground state configuration of the 2D lattice of \"$\\mathrm{Li_2WO_4}$\"."
   ]
  },
  {
   "cell_type": "code",
   "execution_count": 10,
   "id": "8c6c191e-82d3-43ad-b6a3-800ac67cf4fc",
   "metadata": {},
   "outputs": [
    {
     "name": "stdout",
     "output_type": "stream",
     "text": [
      "   0  1  2  3    energy num_oc. chain_.\n",
      "0  1  1  1  1 -8.176744      10     0.0\n",
      "['BINARY', 1 rows, 10 samples, 4 variables]\n",
      "Sample: [1, 1, 1, 1]\n",
      "Energy: -59.865909419077155\n",
      "N Li: 4\n"
     ]
    }
   ],
   "source": [
    "def sample_qubo(Q, nruns):\n",
    "\n",
    "    # We choose the quantum annealer as solver for our QUBO problem\n",
    "    sampler = EmbeddingComposite(DWaveSampler())\n",
    "\n",
    "    # And we make nruns independent annealing runs...\n",
    "    sample_set = sampler.sample_qubo(Q, num_reads=nruns)\n",
    "\n",
    "    print(sample_set)\n",
    "\n",
    "    # Print the correct Coulomb energies\n",
    "\n",
    "    nVar = len(alpha)\n",
    "\n",
    "    for sample in sample_set:\n",
    "        sample_list = nVar*[0]\n",
    "        for key in sample:\n",
    "            sample_list[key] = sample[key]\n",
    "        print('Sample: ' + str(sample_list))\n",
    "        print('Energy: ' + str(E_QUBO(sample_list, alpha, beta, c)))\n",
    "        print('N Li: ' + str(sum(sample_list)))\n",
    "\n",
    "    return sample_set\n",
    "\n",
    "nruns = 10\n",
    "sample_set = sample_qubo(Q, nruns)"
   ]
  },
  {
   "cell_type": "markdown",
   "id": "0fbf29a2-d399-466d-8946-1b81a15541ae",
   "metadata": {},
   "source": [
    "_Careful_: Since the constant term is omitted in the D-Wave QUBO, the \"energies\" in the sample set do not directly correspond to the full Coulomb energy. For this, we added a loop over the samples and recompute the full energy for each."
   ]
  },
  {
   "cell_type": "markdown",
   "id": "2ce66675-5c40-4bb3-a708-87beee2dbdaa",
   "metadata": {},
   "source": [
    "#### **_Task 1.5: Examine the solution_**"
   ]
  },
  {
   "cell_type": "markdown",
   "id": "4475e716-c76a-4616-84da-fcb4721e435e",
   "metadata": {},
   "source": [
    "_What do you observe? Did you obtain the ground state that you already identified earlier \"by hand\"? How can you explain the D-Wave result? Is it the lowest energy solution?_"
   ]
  },
  {
   "cell_type": "markdown",
   "id": "673d0fc1-a321-4dde-987b-e2ed5130a22f",
   "metadata": {},
   "source": [
    "### Enforcing the correct Li ion number using constraints"
   ]
  },
  {
   "cell_type": "markdown",
   "id": "428e28e7-96e9-44e3-8b7f-e967b3a444b8",
   "metadata": {},
   "source": [
    "Each site occupation variable can be either zero or one. The total number of Li ions is given by \n",
    "\n",
    "$$ N_{\\mathrm{Li}} = \\sum_i x_i $$\n",
    "\n",
    "Depending on the values of $x_i$, the total Li number therefore can change. In our physical problem, we want to have precisely two Li ions in the lattice, i.e., $N_{\\mathrm{Li}}^{\\mathrm{target}} = 2$. We must find a way to tell this to the D-Wave Annealer..."
   ]
  },
  {
   "cell_type": "markdown",
   "id": "1fa00024-c7fe-4b51-87ec-8f02aaa82c85",
   "metadata": {},
   "source": [
    "The basic idea is to put an energy penalty on all states that violate this constraint. For configurations with the correct target Li number, the energy penalty should be zero. We will then simply add the energy penalty to the QUBO of the Coulomb problem. To be able to do this, the energy penalty itself must be a quadratic function of the binary variables. These conditions are met by the following energy penalty:\n",
    "\n",
    "$$ E_{\\mathrm{penalty}} = \\lambda\\,\\left( \\sum_i x_i - N_{\\mathrm{Li}}^{\\mathrm{target}} \\right)^2 $$\n",
    "\n",
    "Here, $\\lambda$ is a parameter that allows us to tune how strongly the number constraint is enforced."
   ]
  },
  {
   "cell_type": "markdown",
   "id": "99fc0cf1-54db-4281-a21d-204c694cb9fa",
   "metadata": {},
   "source": [
    "#### **_Task 1.6: Rewrite the energy penalty in QUBO form_**"
   ]
  },
  {
   "cell_type": "markdown",
   "id": "ce90d23b-568f-43e1-8d8d-9ba0b04320cd",
   "metadata": {},
   "source": [
    "_Factor out the squared expression for the energy penalty function to obtain the corresponding QUBO coefficients in the form_\n",
    "\n",
    "$$ E_{\\mathrm{penalty}}(\\{x_i\\})\\ =\\ c + \\sum_{i = 1}^n \\,Q^{\\mathrm{p}}_{i,i}\\,x_i + \\sum_{i<j = 1}^n \\,Q^{\\mathrm{p}}_{i,j}\\,x_i\\,x_j$$"
   ]
  },
  {
   "cell_type": "markdown",
   "id": "b6fab01d-7920-4ef3-9cef-639db3f31b12",
   "metadata": {},
   "source": [
    "Solution:\n",
    "$$ E_{\\mathrm{penalty}} = \\lambda\\,\\left(N_{\\mathrm{Li}}^{\\mathrm{target}}\\right)^2 + \\sum_i \\lambda\\left(1-2\\,N_{\\mathrm{Li}}^{\\mathrm{target}}\\right)\\,x_i + \\sum_{i<j} 2\\lambda\\,x_i\\,x_j $$"
   ]
  },
  {
   "cell_type": "markdown",
   "id": "2c1db3fe-2641-49cf-a965-26e81a034d50",
   "metadata": {},
   "source": [
    "We thus find $Q^{\\mathrm{p}}_{i,i} = \\lambda\\left(1-2\\,N_{\\mathrm{Li}}^{\\mathrm{target}}\\right)$ and $Q^{\\mathrm{p}}_{i,j} = 2\\lambda$. The constant term can, again, be ignored since it does not affect the minimization solution."
   ]
  },
  {
   "cell_type": "markdown",
   "id": "474081fd-b423-4d7f-ba03-4fd4c0acca20",
   "metadata": {},
   "source": [
    "Let's add the penalty coefficients to our QUBO..."
   ]
  },
  {
   "cell_type": "code",
   "execution_count": 15,
   "id": "b2501cbe-84a9-4207-b23f-ac141affcb5a",
   "metadata": {},
   "outputs": [
    {
     "name": "stdout",
     "output_type": "stream",
     "text": [
      "   0  1  2  3     energy num_oc. chain_.\n",
      "0  1  1  1  0 -10.106165      33     0.0\n",
      "1  1  1  0  1 -10.106165      22     0.0\n",
      "3  1  0  1  1 -10.106165      23     0.0\n",
      "2  0  1  1  1 -10.106165      15     0.0\n",
      "4  1  0  0  1  -9.588372       2     0.0\n",
      "5  0  1  1  0  -9.588372       1     0.0\n",
      "6  1  1  0  0  -9.535586       3     0.0\n",
      "7  1  0  1  0  -9.035586       1     0.0\n",
      "['BINARY', 8 rows, 100 samples, 4 variables]\n",
      "Sample: [1, 1, 1, 0]\n",
      "Energy: -58.79533009805819\n",
      "N Li: 3\n",
      "Sample: [1, 1, 0, 1]\n",
      "Energy: -58.79533009805819\n",
      "N Li: 3\n",
      "Sample: [1, 0, 1, 1]\n",
      "Energy: -58.79533009805818\n",
      "N Li: 3\n",
      "Sample: [0, 1, 1, 1]\n",
      "Energy: -58.79533009805818\n",
      "N Li: 3\n",
      "Sample: [1, 0, 0, 1]\n",
      "Energy: -57.27753718153925\n",
      "N Li: 2\n",
      "Sample: [0, 1, 1, 0]\n",
      "Energy: -57.27753718153925\n",
      "N Li: 2\n",
      "Sample: [1, 1, 0, 0]\n",
      "Energy: -57.22475077703922\n",
      "N Li: 2\n",
      "Sample: [1, 0, 1, 0]\n",
      "Energy: -56.72475077703921\n",
      "N Li: 2\n"
     ]
    }
   ],
   "source": [
    "def add_penalty_qubo(Q, lam, Ntar, nVar):\n",
    "\n",
    "    for i in range(nVar):\n",
    "        Q[(i, i)] = Q.get((i, i), 0) + lam * (1 - 2 * Ntar)\n",
    "        for j in range(i + 1, nVar):\n",
    "            Q[(i, j)] = Q.get((i, j), 0) + lam * 2\n",
    "\n",
    "    return Q\n",
    "\n",
    "lam = 1\n",
    "Ntar = 2\n",
    "nVar = len(alpha)\n",
    "\n",
    "Q = get_qubo(alpha, beta)\n",
    "Q = add_penalty_qubo(Q, lam, Ntar, nVar)\n",
    "\n",
    "nruns=100\n",
    "sample_set = sample_qubo(Q, nruns)"
   ]
  },
  {
   "cell_type": "code",
   "execution_count": 35,
   "id": "4cd68ccb-fb20-49b8-b6c7-de93e7d49a0d",
   "metadata": {},
   "outputs": [
    {
     "name": "stdout",
     "output_type": "stream",
     "text": [
      "   0  1  2  3    energy num_oc. chain_.\n",
      "0  0  1  1  0 -1.588372      43     0.0\n",
      "1  1  0  0  1 -1.588372      27     0.0\n",
      "2  1  1  0  0 -1.535586       9     0.0\n",
      "3  0  0  1  1 -1.535586      21     0.0\n",
      "['BINARY', 4 rows, 100 samples, 4 variables]\n",
      "Sample: [0, 1, 1, 0]\n",
      "Energy: -57.27753718153925\n",
      "N Li: 2\n",
      "Sample: [1, 0, 0, 1]\n",
      "Energy: -57.27753718153925\n",
      "N Li: 2\n",
      "Sample: [1, 1, 0, 0]\n",
      "Energy: -57.22475077703922\n",
      "N Li: 2\n",
      "Sample: [0, 0, 1, 1]\n",
      "Energy: -57.224750777039205\n",
      "N Li: 2\n"
     ]
    }
   ],
   "source": [
    "def add_mu_qubo(Q, mu, nVar):\n",
    "\n",
    "    for i in range(nVar):\n",
    "        Q[(i, i)] = Q.get((i, i), 0) - mu\n",
    "\n",
    "    return Q\n",
    "\n",
    "mu = -2\n",
    "lam = 0\n",
    "Ntar = 2\n",
    "nVar = len(alpha)\n",
    "\n",
    "Q = get_qubo(alpha, beta)\n",
    "Q = add_penalty_qubo(Q, lam, Ntar, nVar)\n",
    "Q = add_mu_qubo(Q, mu, nVar)\n",
    "\n",
    "nruns=100\n",
    "sample_set = sample_qubo(Q, nruns)"
   ]
  },
  {
   "cell_type": "code",
   "execution_count": null,
   "id": "76535797",
   "metadata": {},
   "outputs": [],
   "source": []
  }
 ],
 "metadata": {
  "kernelspec": {
   "display_name": "Python 3 (ipykernel)",
   "language": "python",
   "name": "python3"
  },
  "language_info": {
   "codemirror_mode": {
    "name": "ipython",
    "version": 3
   },
   "file_extension": ".py",
   "mimetype": "text/x-python",
   "name": "python",
   "nbconvert_exporter": "python",
   "pygments_lexer": "ipython3",
   "version": "3.9.6"
  },
  "toc": {
   "base_numbering": 1,
   "nav_menu": {},
   "number_sections": true,
   "sideBar": true,
   "skip_h1_title": false,
   "title_cell": "Table of Contents",
   "title_sidebar": "Contents",
   "toc_cell": false,
   "toc_position": {},
   "toc_section_display": true,
   "toc_window_display": false
  }
 },
 "nbformat": 4,
 "nbformat_minor": 5
}
