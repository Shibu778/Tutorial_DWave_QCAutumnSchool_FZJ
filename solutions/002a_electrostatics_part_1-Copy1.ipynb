{
 "cells": [
  {
   "cell_type": "markdown",
   "id": "698f1242-0fe8-4674-82b4-6d3ec7aead43",
   "metadata": {},
   "source": [
    "# Exercise 2: Quantum Annealing for Sampling Ionic Distributions in Disordered Materials"
   ]
  },
  {
   "cell_type": "markdown",
   "id": "c479baff-a404-4cbc-8883-8bf5a2081b48",
   "metadata": {},
   "source": [
    "### Disordered Materials in Energy Research"
   ]
  },
  {
   "cell_type": "markdown",
   "id": "eefbe0ae-b186-4f50-8494-105eb2fc0979",
   "metadata": {},
   "source": [
    "In energy research, particularly within the domain of battery technologies, the investigation of disordered materials, such as doped materials and high-entropy oxides, has become increasingly significant. A hallmark of this disorder is the presence of vacancies alongside ions. The distribution between ions and vacancies is far from trivial; they fundamentally influence the material's behavior. This distribution is especially crucial in computational studies, where the accuracy of predictions hinges upon an accurate representation of ion-vacancy configurations. Given the extensive possible configurations, ensuring model precision is challenging; inaccuracies can substantially alter predictive results.\n",
    "\n",
    "Thermodynamically, the configurations at the lowest energy states are of utmost significance. Materials are inherently inclined to adopt these configurations, making them critical for both understanding and predicting the behavior of the material under various conditions. The challenge, however, lies in effectively identifying these configurations from a vast solution space. Quantum Annealing presents an advanced approach to efficiently sample ionic distributions in disordered materials.\n",
    "\n",
    "This tutorial delves into the specifics of Quantum Annealing, elucidating its capabilities and techniques for identifying low-energy states in disordered materials."
   ]
  },
  {
   "cell_type": "markdown",
   "id": "e03fa7d3-5a36-46e6-8686-47cac53ec568",
   "metadata": {},
   "source": [
    "### Simplified Model: Classical Electrostatic Coulomb Energy"
   ]
  },
  {
   "cell_type": "markdown",
   "id": "e2cddd46-c533-4f77-a4e9-19866a80c6ec",
   "metadata": {},
   "source": [
    "A foundational approach to modeling interactions in ionic systems is the consideration of pairwise Coulomb interactions. The energy $E_{\\mathrm{coul}}$ is determined by the summation of interactions between every distinct pair of ions in the system. In the equation:\n",
    "\n",
    "$$E_{coul} = \\sum_{i<j} \\frac{q_i\\,q_j}{|r_i-r_j|}$$\n",
    "\n",
    "$q_i$ and $q_j$ represent the charges of the ions, while $|\\mathbf{r}_i-\\mathbf{r}_j|$ is the distance between the ions $i$ and $j$. This equation encapsulates the essence of classical electrostatic interactions: charged entities attract or repel each other based on the inverse of the square of their separation distance. While this is a simplification and does not account for quantum effects or other complexities, it serves as a foundational starting point for understanding the energetics of ionic systems in disordered materials."
   ]
  },
  {
   "cell_type": "markdown",
   "id": "dd4d7aec-c18c-4976-8e94-863e064bc888",
   "metadata": {},
   "source": [
    "### Problem 1: Simple 2D Lattice"
   ]
  },
  {
   "cell_type": "markdown",
   "id": "f6d6c1f9-a8cf-4895-b2d8-c3d821ed351f",
   "metadata": {},
   "source": [
    "For this investigation, we focus on a model representing a two-dimensional lattice subjected to classical electrostatic Coulomb interactions. Theoretically, this lattice portrays a hypothetical material structure wherein we aim to distribute two lithium (Li) ions and two vacancies over a set of four designated lithium sites.\n",
    "\n",
    "The visual representation below illustrates the lattice alongside specific ionic positions, providing clarity on the distribution of different ions within the structure. For a more detailed insight into the ionic distribution, refer to the accompanying table that enumerates the exact atomic positions.\n",
    "\n",
    "<table style=\"width:100%;\">\n",
    "    <tr>\n",
    "        <td style=\"width:50%; vertical-align:top;\">\n",
    "            <img src=\"2D_lattice.jpg\" width=\"600\"/>\n",
    "        </td>\n",
    "        <td style=\"width:50%; vertical-align:top;\">\n",
    "            <table border=\"1\">\n",
    "                <thead>\n",
    "                    <tr>\n",
    "                        <th>Atom</th>\n",
    "                        <th>x-Coordinate</th>\n",
    "                        <th>y-Coordinate</th>\n",
    "                    </tr>\n",
    "                </thead>\n",
    "                <tbody>\n",
    "                    <tr>\n",
    "                        <td>Li<sup>+</sup></td>\n",
    "                        <td>0</td>\n",
    "                        <td>0</td>\n",
    "                    </tr>\n",
    "                    <tr>\n",
    "                        <td>Li<sup>+</sup></td>\n",
    "                        <td>2</td>\n",
    "                        <td>0</td>\n",
    "                    </tr>\n",
    "                    <tr>\n",
    "                        <td>Li<sup>+</sup></td>\n",
    "                        <td>0</td>\n",
    "                        <td>1</td>\n",
    "                    </tr>\n",
    "                    <tr>\n",
    "                        <td>Li<sup>+</sup></td>\n",
    "                        <td>2</td>\n",
    "                        <td>1</td>\n",
    "                    </tr>\n",
    "                    <tr>\n",
    "                        <td>O<sup>2-</sup></td>\n",
    "                        <td>1</td>\n",
    "                        <td>0</td>\n",
    "                    </tr>\n",
    "                    <tr>\n",
    "                        <td>O<sup>2-</sup></td>\n",
    "                        <td>2</td>\n",
    "                        <td>0.5</td>\n",
    "                    </tr>\n",
    "                    <tr>\n",
    "                        <td>O<sup>2-</sup></td>\n",
    "                        <td>0</td>\n",
    "                        <td>0.5</td>\n",
    "                    </tr>\n",
    "                    <tr>\n",
    "                        <td>O<sup>2-</sup></td>\n",
    "                        <td>1</td>\n",
    "                        <td>1</td>\n",
    "                    </tr>\n",
    "                    <tr>\n",
    "                        <td>W<sup>6+</sup></td>\n",
    "                        <td>1</td>\n",
    "                        <td>0.5</td>\n",
    "                    </tr>\n",
    "                </tbody>\n",
    "            </table>\n",
    "        </td>\n",
    "    </tr>\n",
    "</table>\n",
    "\n"
   ]
  },
  {
   "cell_type": "markdown",
   "id": "fc922221-75e3-4762-8445-9d7c93b11e77",
   "metadata": {
    "tags": []
   },
   "source": [
    "#### Task 1.1: Compute the Coulomb energies of all possible configurations\n",
    "\n",
    "The process of computing the Coulomb energy for a set of ionic configurations in our 2D lattice model hinges on the Classical Electrostatic Coulomb Energy equation:\n",
    "$$E_{\\mathrm{coul}}\\ =\\ \\sum_{i<j} \\frac{q_i\\,q_j}{|\\mathbf{r}_i-\\mathbf{r}_j|}$$\n",
    "The formula calculates the pairwise Coulomb interaction energy between ions in the system. The energy between two ions is proportional to the product of their charges and inversely proportional to the distance between them. Here's how we can use this concept to evaluate the energy for our lattice:\n",
    "\n",
    "1. **Pairwise Computation**: For every distinct pair of ions, we will compute their interaction energy.\n",
    "2. **Accumulation**: Sum all these pairwise energies to get the total Coulombic energy for a given ionic configuration.\n",
    "3. **Iterate for All Configurations**: By varying the arrangement of Li ions and vacancies, we can compute the energy for each unique configuration."
   ]
  },
  {
   "cell_type": "code",
   "execution_count": 35,
   "id": "d8c4ac0e-108e-4230-939a-8a243cb44a68",
   "metadata": {
    "tags": []
   },
   "outputs": [
    {
     "name": "stdout",
     "output_type": "stream",
     "text": [
      "Total Coulomb energy for the configuration: -56.72475077703921\n"
     ]
    }
   ],
   "source": [
    "import numpy as np\n",
    "\n",
    "def energy_coul_pair(site1, site2):\n",
    "    \"\"\"Compute Coulomb energy between two sites.\"\"\"\n",
    "    q1 = site1[0]  # Charge of the first ion\n",
    "    r1 = np.array(site1[1])  # Position of the first ion\n",
    "    q2 = site2[0]  # Charge of the second ion\n",
    "    r2 = np.array(site2[1])  # Position of the second ion\n",
    "    \n",
    "    # Compute pairwise interaction energy\n",
    "    return q1 * q2 / np.linalg.norm(r1 - r2)\n",
    "\n",
    "# Define the ionic sites and their charges/positions.\n",
    "# Each site is represented as a tuple: (charge, [x,y])\n",
    "# total_li_sites = [(1, [0, 0]), (1, [2, 0]), (1, [0, 1]), (1, [2, 1])]\n",
    "\n",
    "#select two occupied Li sites and find all possible configurations\n",
    "li_sites = [(1, [0, 0]), (1, [0, 1])] \n",
    "#li_sites = [(1, [0, 0]), (1, [2, 0])]\n",
    "#li_sites = [(1, [0, 0]), (1, [2, 1])]\n",
    "o_sites = [(-2, [1, 0]), (-2, [2, 0.5]), (-2, [0, 0.5]), (-2, [1, 1])]\n",
    "w_site = [(6, [1, 0.5])]\n",
    "\n",
    "# Combine all sites\n",
    "all_sites = li_sites + o_sites + w_site\n",
    "n_all_sites = len(all_sites)\n",
    "\n",
    "# Initialize total energy to zero\n",
    "energy_coul_total = 0\n",
    "for i in range(n_all_sites):\n",
    "    for j in range(i+1, n_all_sites):  # Ensures we don't double-count pairs\n",
    "        energy_coul_total += energy_coul_pair(all_sites[i], all_sites[j])\n",
    "\n",
    "print('Total Coulomb energy for the configuration: ' + str(energy_coul_total))\n"
   ]
  },
  {
   "cell_type": "markdown",
   "id": "ecdd9fad-2fc6-4747-b393-3f8e834d260d",
   "metadata": {},
   "source": [
    "### Mapping Configurational Coulomb Energy onto QUBO Cost Function\n",
    "\n",
    "Mapping the Coulomb energy into a QUBO form is crucial for processing on quantum annealers, as these devices naturally understand and solve problems represented in QUBO format. At the core, a QUBO problem seeks to minimize a function of binary variables (variables that take on values 0 or 1). The process of translating our energy problem to QUBO involves expressing the energy in terms of these binary variables. \n",
    "\n",
    "Let's dissect the QUBO representation of $E_{coul}$:\n",
    "\n",
    "$$E_{coul} = c + \\sum_{i} \\alpha_i x_i +\\sum_{i<j} \\beta_{ij} x_i x_j$$\n",
    "\n",
    "Where $x_i$ are the binary variables. In our case, these can represent the presence (1) or absence (0) of a Li ion in the ith position on the lattice.\n",
    "\n",
    "Here's a deeper look at the three components:\n",
    "\n",
    "1. **Constant Term, $c$**: This is the Coulomb energy arising solely from the fixed ions (like $O^{2-}$ and $W^{6+}$). Since these positions and charges are fixed, this energy doesn't change with different configurations and can be computed just once. \n",
    "\n",
    "2. **Linear Term, $\\sum_{i} \\alpha_i x_i$**: Represents the interaction energy between a single variable site (like a Li ion) and all the fixed ions in the lattice. $\\alpha_i$ thus captures the cumulative interaction of the *i*-th variable site with all fixed ions.\n",
    "\n",
    "3. **Quadratic Term, $\\sum_{i<j} \\beta_{ij} x_i x_j$**: This term captures the pairwise interaction energies between all possible pairs of variable sites. If two sites are occupied (i.e., both $x_i$ and $x_j$ are 1), then their interaction contributes to the total energy. $\\beta_{ij}$ is the interaction energy between the *i*-th and *j*-th variable sites.\n",
    "\n",
    "This decomposition makes the energy expression amenable to quantum annealing, by breaking it down into terms that rely on binary decision variables.\n",
    "\n",
    "To successfully map the Coulomb energy to QUBO:\n",
    "- **Compute $\\alpha_i$**: For each possible Li site, compute its interaction energy with all fixed ions. This gives the $\\alpha_i$ values.\n",
    "  \n",
    "- **Compute $\\beta_{ij}$**: For every pair of possible Li sites, compute their interaction energy. These are the $\\beta_{ij}$ values.\n",
    "\n",
    "- **Compute $c$**: This involves finding the cumulative interaction energy between all fixed ions.\n",
    "\n",
    "The matrices $\\alpha$ and $\\beta$, along with the constant $c$, provide the parameters necessary for the QUBO cost function. Once this function is formulated, quantum annealers can be used to find the configuration (i.e., the values of $x_i$) that minimizes this function, which in turn gives the configuration with the lowest Coulomb energy.\n",
    "\n",
    "Please write a code for computing matrices $\\alpha$, $\\beta$, and constant $c$ for the 2D lattice."
   ]
  },
  {
   "cell_type": "code",
   "execution_count": 37,
   "id": "e8deca4f-e2f4-483a-9869-b8505aa5ea88",
   "metadata": {
    "tags": []
   },
   "outputs": [
    {
     "name": "stdout",
     "output_type": "stream",
     "text": [
      "c = -72.0\n",
      "alpha = [-3.01779292 -3.01779292 -3.01779292 -3.01779292]\n",
      "beta matrix =\n",
      "[[0.        0.5       1.        0.4472136]\n",
      " [0.        0.        0.4472136 1.       ]\n",
      " [0.        0.        0.        0.5      ]\n",
      " [0.        0.        0.        0.       ]]\n"
     ]
    }
   ],
   "source": [
    "import numpy as np\n",
    "\n",
    "def energy_coul_pair(site1, site2):\n",
    "    \"\"\"Compute Coulomb energy between two sites.\"\"\"\n",
    "    q1 = site1[0]  # Charge of the first ion\n",
    "    r1 = np.array(site1[1])  # Position of the first ion\n",
    "    q2 = site2[0]  # Charge of the second ion\n",
    "    r2 = np.array(site2[1])  # Position of the second ion\n",
    "    \n",
    "    # Compute pairwise interaction energy\n",
    "    return q1 * q2 / np.linalg.norm(r1 - r2)\n",
    "\n",
    "# Sites definition\n",
    "li_sites = [(1, [0, 0]), (1, [2, 0]), (1, [0, 1]), (1, [2, 1])]\n",
    "o_sites = [(-2, [1, 0]), (-2, [2, 0.5]), (-2, [0, 0.5]), (-2, [1, 1])]\n",
    "w_site = [(6, [1, 0.5])]\n",
    "\n",
    "# Compute c: Coulomb energy from fixed atoms\n",
    "def compute_c(o_sites, w_site):\n",
    "    c_energy = 0\n",
    "    # Only considering O-W interactions since O-O are fixed and won't affect optimization\n",
    "    for o in o_sites:\n",
    "        c_energy += energy_coul_pair(o, w_site[0])\n",
    "    return c_energy\n",
    "\n",
    "# Compute alpha: The Coulomb energy from 1 distributed Li atom and fixed atoms\n",
    "def compute_alpha(li_sites, o_sites, w_site):\n",
    "    alpha = []\n",
    "    for li in li_sites:\n",
    "        alpha_energy = 0\n",
    "        for o in o_sites:\n",
    "            alpha_energy += energy_coul_pair(li, o)\n",
    "        alpha_energy += energy_coul_pair(li, w_site[0])\n",
    "        alpha.append(alpha_energy)\n",
    "    return np.array(alpha)\n",
    "\n",
    "# Compute beta: The Coulomb energy from distributed atoms (Li^+ - Li^+)\n",
    "def compute_beta(li_sites):\n",
    "    beta = np.zeros((len(li_sites), len(li_sites)))\n",
    "    for i in range(len(li_sites)):\n",
    "        for j in range(i+1, len(li_sites)):\n",
    "            beta[i, j] = energy_coul_pair(li_sites[i], li_sites[j])\n",
    "    return beta\n",
    "\n",
    "# Compute the QUBO parameters\n",
    "c = compute_c(o_sites, w_site)\n",
    "alpha = compute_alpha(li_sites, o_sites, w_site)\n",
    "beta = compute_beta(li_sites)\n",
    "\n",
    "# Print the QUBO parameters\n",
    "print(\"c =\", c)\n",
    "print(\"alpha =\", alpha)\n",
    "print(\"beta matrix =\")\n",
    "print(beta)"
   ]
  },
  {
   "cell_type": "code",
   "execution_count": 38,
   "id": "ea601376-4b9f-4c1e-b327-3fd068905436",
   "metadata": {
    "tags": []
   },
   "outputs": [
    {
     "name": "stdout",
     "output_type": "stream",
     "text": [
      "Generated configurations: [[1, 1, 0, 0], [1, 0, 1, 0], [1, 0, 0, 1], [0, 1, 1, 0], [0, 1, 0, 1], [0, 0, 1, 1]]\n",
      "E_QUBO for x = [1, 1, 0, 0] is -77.53558583303786\n",
      "E_QUBO for x = [1, 0, 1, 0] is -77.03558583303786\n",
      "E_QUBO for x = [1, 0, 0, 1] is -77.5883722375379\n",
      "E_QUBO for x = [0, 1, 1, 0] is -77.5883722375379\n",
      "E_QUBO for x = [0, 1, 0, 1] is -77.03558583303786\n",
      "E_QUBO for x = [0, 0, 1, 1] is -77.53558583303786\n"
     ]
    }
   ],
   "source": [
    "# Calculate the QUBO cost for a given configuration of x\n",
    "def E_QUBO(x, alpha, beta, c):\n",
    "    E = c\n",
    "    for i in range(len(x)):\n",
    "        E += alpha[i] * x[i]\n",
    "        for j in range(i+1, len(x)):\n",
    "            E += beta[i, j] * x[i] * x[j]\n",
    "    return E\n",
    "\n",
    "# Function to get all possible configurations of Li distribution\n",
    "def get_configurations(n_sites, n_li):\n",
    "    from itertools import combinations\n",
    "    configs = list(combinations(range(n_sites), n_li))\n",
    "    binary_configs = []\n",
    "    for config in configs:\n",
    "        binary = [0] * n_sites\n",
    "        for i in config:\n",
    "            binary[i] = 1\n",
    "        binary_configs.append(binary)\n",
    "    return binary_configs\n",
    "\n",
    "\n",
    "configurations = get_configurations(len(li_sites), 2)  # 2 Li atoms out of 4 possible sites\n",
    "print(\"Generated configurations:\", configurations)\n",
    "for config in configurations:\n",
    "    E = E_QUBO(config, alpha, beta, c)\n",
    "    print(f\"E_QUBO for x = {config} is {E}\")"
   ]
  },
  {
   "cell_type": "code",
   "execution_count": null,
   "id": "a6e4a720-867b-4fc0-8398-9b9cd7f08136",
   "metadata": {},
   "outputs": [],
   "source": []
  }
 ],
 "metadata": {
  "kernelspec": {
   "display_name": "Python 3 (ipykernel)",
   "language": "python",
   "name": "python3"
  },
  "language_info": {
   "codemirror_mode": {
    "name": "ipython",
    "version": 3
   },
   "file_extension": ".py",
   "mimetype": "text/x-python",
   "name": "python",
   "nbconvert_exporter": "python",
   "pygments_lexer": "ipython3",
   "version": "3.8.10"
  }
 },
 "nbformat": 4,
 "nbformat_minor": 5
}
