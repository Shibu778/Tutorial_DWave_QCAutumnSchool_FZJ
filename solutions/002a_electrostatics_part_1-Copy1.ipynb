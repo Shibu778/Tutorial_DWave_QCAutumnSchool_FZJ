{
 "cells": [
  {
   "cell_type": "markdown",
   "id": "698f1242-0fe8-4674-82b4-6d3ec7aead43",
   "metadata": {},
   "source": [
    "# Exercise 2: Quantum Annealing for Sampling Ionic Distributions in Disordered Materials"
   ]
  },
  {
   "cell_type": "markdown",
   "id": "c479baff-a404-4cbc-8883-8bf5a2081b48",
   "metadata": {},
   "source": [
    "### Disordered Materials in Energy Research"
   ]
  },
  {
   "cell_type": "markdown",
   "id": "eefbe0ae-b186-4f50-8494-105eb2fc0979",
   "metadata": {},
   "source": [
    "Battery materials with occupied and vacant lattice sites; Large number of possible configurations; Lowest energy states thermodynamically most relevant; How to find lowest energy configurations?"
   ]
  },
  {
   "cell_type": "markdown",
   "id": "e03fa7d3-5a36-46e6-8686-47cac53ec568",
   "metadata": {},
   "source": [
    "### Simplified Model: Classical Electrostatic Coulomb Energy"
   ]
  },
  {
   "cell_type": "markdown",
   "id": "e2cddd46-c533-4f77-a4e9-19866a80c6ec",
   "metadata": {},
   "source": [
    "Pairwise Coulomb interactions $$E_{\\mathrm{coul}}\\ =\\ \\sum_{i<j} \\frac{q_i\\,q_j}{|\\mathbf{r}_i-\\mathbf{r}_j|}$$"
   ]
  },
  {
   "cell_type": "markdown",
   "id": "dd4d7aec-c18c-4976-8e94-863e064bc888",
   "metadata": {},
   "source": [
    "### Problem 1: Simple 2D Lattice"
   ]
  },
  {
   "cell_type": "markdown",
   "id": "f6d6c1f9-a8cf-4895-b2d8-c3d821ed351f",
   "metadata": {},
   "source": [
    "In this problem, we treat a simplified 2D lattice model with "
   ]
  },
  {
   "cell_type": "markdown",
   "id": "fc922221-75e3-4762-8445-9d7c93b11e77",
   "metadata": {},
   "source": [
    "#### Task 1.1: Compute the Coulomb energies of all possible configurations"
   ]
  },
  {
   "cell_type": "code",
   "execution_count": null,
   "id": "cccc1888-1ab7-4fca-8cc1-c93805ebf441",
   "metadata": {},
   "outputs": [],
   "source": [
    "Table"
   ]
  },
  {
   "cell_type": "code",
   "execution_count": 12,
   "id": "d8c4ac0e-108e-4230-939a-8a243cb44a68",
   "metadata": {},
   "outputs": [
    {
     "name": "stdout",
     "output_type": "stream",
     "text": [
      "Total Coulomb energy: -1.0\n"
     ]
    }
   ],
   "source": [
    "import numpy as np\n",
    "\n",
    "def energy_coul_pair(site1,site2):\n",
    "    q1 = site1[0]\n",
    "    r1 = np.array(site1[1])\n",
    "    q2 = site2[0]\n",
    "    r2 = np.array(site2[1])\n",
    "    return q1*q2/np.linalg.norm(r1-r2)\n",
    "\n",
    "# tuples for sites of the form (q, [x,y])\n",
    "site_1 = (1,[1,1])\n",
    "site_2 = (-1,[1,0])\n",
    "\n",
    "occupied_sites = [site_1, site_2]\n",
    "n_occ_sites = len(occupied_sites)\n",
    "\n",
    "energy_coul = 0\n",
    "for i in range(n_occ_sites):\n",
    "    for j in range(i+1,n_occ_sites):\n",
    "        energy_coul += energy_coul_pair(occupied_sites[i],occupied_sites[j])\n",
    "\n",
    "print('Total Coulomb energy: ' + str(energy_coul))\n"
   ]
  },
  {
   "cell_type": "markdown",
   "id": "c4d8d9f6-87bc-4685-951b-87251a92700a",
   "metadata": {},
   "source": [
    "### Mapping Configurational Coulomb Energy onto QUBO Cost Function"
   ]
  },
  {
   "cell_type": "code",
   "execution_count": null,
   "id": "e8deca4f-e2f4-483a-9869-b8505aa5ea88",
   "metadata": {},
   "outputs": [],
   "source": []
  },
  {
   "cell_type": "code",
   "execution_count": null,
   "id": "ea601376-4b9f-4c1e-b327-3fd068905436",
   "metadata": {},
   "outputs": [],
   "source": []
  }
 ],
 "metadata": {
  "kernelspec": {
   "display_name": "Python 3 (ipykernel)",
   "language": "python",
   "name": "python3"
  },
  "language_info": {
   "codemirror_mode": {
    "name": "ipython",
    "version": 3
   },
   "file_extension": ".py",
   "mimetype": "text/x-python",
   "name": "python",
   "nbconvert_exporter": "python",
   "pygments_lexer": "ipython3",
   "version": "3.9.6"
  }
 },
 "nbformat": 4,
 "nbformat_minor": 5
}
